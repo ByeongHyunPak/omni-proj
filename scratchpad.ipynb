{
  "cells": [
    {
      "attachments": {},
      "cell_type": "markdown",
      "metadata": {
        "colab_type": "text",
        "id": "view-in-github"
      },
      "source": [
        "<a href=\"https://colab.research.google.com/github/ByeongHyunPak/omni-proj/blob/main/scratchpad.ipynb\" target=\"_parent\"><img src=\"https://colab.research.google.com/assets/colab-badge.svg\" alt=\"Open In Colab\"/></a>"
      ]
    },
    {
      "cell_type": "code",
      "execution_count": null,
      "metadata": {
        "id": "lIYdn1woOS1n"
      },
      "outputs": [],
      "source": [
        "!pip install tensorboardX"
      ]
    },
    {
      "cell_type": "code",
      "execution_count": null,
      "metadata": {},
      "outputs": [],
      "source": [
        "!git clone https://github.com/ByeongHyunPak/omni-proj.git"
      ]
    },
    {
      "cell_type": "code",
      "execution_count": null,
      "metadata": {},
      "outputs": [],
      "source": [
        "import os\n",
        "os.chdir('/content/omni-proj')\n",
        "!git pull"
      ]
    },
    {
      "cell_type": "code",
      "execution_count": null,
      "metadata": {},
      "outputs": [],
      "source": [
        "import os\n",
        "os.chdir('/content/omni-proj/omni-proj')"
      ]
    },
    {
      "cell_type": "code",
      "execution_count": null,
      "metadata": {},
      "outputs": [],
      "source": [
        "from PIL import Image\n",
        "import os\n",
        "\n",
        "def load_images_from_folder(folder):\n",
        "  images = []\n",
        "  for filename in os.listdir(folder):\n",
        "    img_path = os.path.join(folder, filename)\n",
        "    if os.path.isfile(img_path) and img_path.lower().endswith(('.png', '.jpg', '.jpeg')):\n",
        "      try:\n",
        "        img = Image.open(img_path)\n",
        "        images.append(img)\n",
        "      except Exception as e:\n",
        "        print(f\"Error loading image {img_path}: {e}\")\n",
        "  return images\n",
        "\n",
        "imgs_folder = '/content/omni-proj/imgs/erps' \n",
        "images = load_images_from_folder(imgs_folder)\n",
        "\n",
        "for img in images:\n",
        "    img = pil_to_tensor(img)\n",
        "    print(img.shape)"
      ]
    },
    {
      "cell_type": "code",
      "execution_count": null,
      "metadata": {},
      "outputs": [],
      "source": [
        "import utils\n",
        "import torch\n",
        "import torch.nn.functional as F\n",
        "import torchvision.transforms as transforms\n",
        "\n",
        "def pil_to_tensor(pil_image):\n",
        "  transform = transforms.ToTensor()\n",
        "  tensor_image = transform(pil_image)\n",
        "  return tensor_image\n",
        "\n",
        "def tensor_to_pil(tensor_image):\n",
        "    transform = transforms.ToPILImage()\n",
        "    pil_image = transform(tensor_image)\n",
        "    return pil_image\n",
        "\n",
        "def erp2per(hr_erp_img, THE, PHI):\n",
        "    hr_erp_img = pil_to_tensor(hr_erp_img)\n",
        "\n",
        "    H, W = hr_erp_img.shape[-2:]\n",
        "    HWy = (H//2, H//2)\n",
        "    HWx = (H, W)\n",
        "\n",
        "    FOVy = 90\n",
        "    FOVx = 360\n",
        "\n",
        "    gridy = utils.make_coord(HWy)\n",
        "    gridy2x, masky = utils.gridy2x_erp2per(\n",
        "        gridy, HWy, HWx, THE, PHI, FOVy, FOVx)\n",
        "    gridy2x = gridy2x.view(*HWy, 2)\n",
        "\n",
        "    inp = F.grid_sample(hr_erp_img.unsqueeze(0),\n",
        "                        gridy2x.unsqueeze(0).flip(-1),\n",
        "                        mode='bicubic',\n",
        "                        align_corners=False).clamp_(0, 1)[0]\n",
        "\n",
        "    gridx = utils.make_coord(HWx, flatten=False)\n",
        "    gridx2y, maskx = utils.gridy2x_per2erp(\n",
        "        gridx, HWx, HWy, THE, PHI, FOVx, FOVy)\n",
        "    \n",
        "    maskx = maskx.view(1, *HWx)\n",
        "    valid_hr_erp_img = hr_erp_img * maskx\n",
        "    \n",
        "    return inp, valid_hr_erp_img"
      ]
    },
    {
      "cell_type": "code",
      "execution_count": null,
      "metadata": {},
      "outputs": [],
      "source": [
        "import random\n",
        "\n",
        "THE = random.uniform(-135, 135)\n",
        "PHI = random.uniform(-45, 45)\n",
        "\n",
        "hr_erp_img = images[1]\n",
        "pers_img, valid_hr_erp_img = erp2per(hr_erp_img, THE, PHI)\n",
        "pers_img = tensor_to_pil(pers_img)\n",
        "valid_hr_erp_img = tensor_to_pil(valid_hr_erp_img)\n",
        "\n",
        "display(hr_erp_img)\n",
        "display(valid_hr_erp_img)\n",
        "display(pers_img)\n"
      ]
    },
    {
      "cell_type": "code",
      "execution_count": null,
      "metadata": {},
      "outputs": [],
      "source": [
        "pers_img_imgs_folder = '/content/omni-proj/imgs/pers' \n",
        "pers_images = load_images_from_folder(pers_img_imgs_folder)\n",
        "\n",
        "for img in pers_images:\n",
        "    img = pil_to_tensor(img)\n",
        "    print(img.shape)"
      ]
    },
    {
      "cell_type": "code",
      "execution_count": null,
      "metadata": {},
      "outputs": [],
      "source": [
        "def erp2per(hr_per_img, THE, PHI):\n",
        "    hr_per_img = pil_to_tensor(hr_per_img)\n",
        "\n",
        "    H, W = hr_per_img.shape[-2:]\n",
        "    HWy = (H, 2*H)\n",
        "    HWx = (H, W)\n",
        "\n",
        "    FOVy = 360\n",
        "    FOVx = 90\n",
        "\n",
        "    gridy = utils.make_coord(HWy)\n",
        "    gridy2x, masky = utils.gridy2x_per2erp(\n",
        "        gridy, HWy, HWx, THE, PHI, FOVy, FOVx)\n",
        "    gridy2x = gridy2x.view(*HWy, 2)\n",
        "    masky = masky.view(1, *HWy)\n",
        "\n",
        "    inp = F.grid_sample(hr_per_img.unsqueeze(0),\n",
        "                        gridy2x.unsqueeze(0).flip(-1),\n",
        "                        mode='bicubic',\n",
        "                        align_corners=False).clamp_(0, 1)[0]\n",
        "    inp = inp * masky\n",
        "    \n",
        "    gridx = utils.make_coord(HWx, flatten=False)\n",
        "    gridx2y, maskx = utils.gridy2x_per2erp(\n",
        "        gridx, HWx, HWy, THE, PHI, FOVx, FOVy)    \n",
        "    return inp"
      ]
    },
    {
      "cell_type": "code",
      "execution_count": null,
      "metadata": {},
      "outputs": [],
      "source": [
        "import random\n",
        "\n",
        "THE = random.uniform(-135, 135)\n",
        "PHI = random.uniform(-45, 45)\n",
        "\n",
        "hr_per_img = pers_images[0]\n",
        "pers_img = erp2per(hr_per_img, THE, PHI)\n",
        "pers_img = tensor_to_pil(pers_img)\n",
        "\n",
        "display(hr_per_img)\n",
        "display(pers_img)"
      ]
    }
  ],
  "metadata": {
    "accelerator": "GPU",
    "colab": {
      "gpuType": "T4",
      "include_colab_link": true,
      "name": "scratchpad",
      "provenance": []
    },
    "kernelspec": {
      "display_name": "Python 3",
      "name": "python3"
    }
  },
  "nbformat": 4,
  "nbformat_minor": 0
}
